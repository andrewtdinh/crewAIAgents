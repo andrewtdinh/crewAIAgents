{
 "cells": [
  {
   "cell_type": "markdown",
   "metadata": {},
   "source": [
    "You can download the `requirements.txt` for this course from the workspace of this lab. `File --> Open...`"
   ]
  },
  {
   "cell_type": "markdown",
   "metadata": {},
   "source": [
    "# L2: Create Agents to Research and Write an Article\n",
    "\n",
    "In this lesson, you will be introduced to the foundational concepts of multi-agent systems and get an overview of the crewAI framework."
   ]
  },
  {
   "cell_type": "markdown",
   "metadata": {},
   "source": [
    "The libraries are already installed in the classroom. If you're running this notebook on your own machine, you can install the following:\n",
    "```Python\n",
    "!pip install crewai==0.28.8 crewai_tools==0.1.6 langchain_community==0.0.29\n",
    "```"
   ]
  },
  {
   "cell_type": "code",
   "execution_count": 1,
   "metadata": {
    "height": 64
   },
   "outputs": [],
   "source": [
    "# Warning control\n",
    "import warnings\n",
    "warnings.filterwarnings('ignore')"
   ]
  },
  {
   "cell_type": "markdown",
   "metadata": {},
   "source": [
    "- Import from the crewAI libray."
   ]
  },
  {
   "cell_type": "code",
   "execution_count": 2,
   "metadata": {
    "height": 30
   },
   "outputs": [],
   "source": [
    "from crewai import Agent, Task, Crew"
   ]
  },
  {
   "cell_type": "markdown",
   "metadata": {},
   "source": [
    "- As a LLM for your agents, you'll be using OpenAI's `gpt-3.5-turbo`.\n",
    "\n",
    "**Optional Note:** crewAI also allow other popular models to be used as a LLM for your Agents. You can see some of the examples at the [bottom of the notebook](#1)."
   ]
  },
  {
   "cell_type": "code",
   "execution_count": 3,
   "metadata": {
    "height": 98
   },
   "outputs": [],
   "source": [
    "import os\n",
    "from utils import get_openai_api_key\n",
    "\n",
    "openai_api_key = get_openai_api_key()\n",
    "os.environ[\"OPENAI_MODEL_NAME\"] = 'gpt-3.5-turbo'"
   ]
  },
  {
   "cell_type": "markdown",
   "metadata": {},
   "source": [
    "## Creating Agents\n",
    "\n",
    "- Define your Agents, and provide them a `role`, `goal` and `backstory`.\n",
    "- It has been seen that LLMs perform better when they are role playing."
   ]
  },
  {
   "cell_type": "markdown",
   "metadata": {},
   "source": [
    "### Agent: Planner\n",
    "\n",
    "**Note**: The benefit of using _multiple strings_ :\n",
    "```Python\n",
    "varname = \"line 1 of text\"\n",
    "          \"line 2 of text\"\n",
    "```\n",
    "\n",
    "versus the _triple quote docstring_:\n",
    "```Python\n",
    "varname = \"\"\"line 1 of text\n",
    "             line 2 of text\n",
    "          \"\"\"\n",
    "```\n",
    "is that it can avoid adding those whitespaces and newline characters, making it better formatted to be passed to the LLM."
   ]
  },
  {
   "cell_type": "code",
   "execution_count": 4,
   "metadata": {
    "height": 234
   },
   "outputs": [],
   "source": [
    "planner = Agent(\n",
    "    role=\"Content Planner\",\n",
    "    goal=\"Plan engaging and factually accurate content on {topic}\",\n",
    "    backstory=\"You're working on planning a blog article \"\n",
    "              \"about the topic: {topic}.\"\n",
    "              \"You collect information that helps the \"\n",
    "              \"audience learn something \"\n",
    "              \"and make informed decisions. \"\n",
    "              \"Your work is the basis for \"\n",
    "              \"the Content Writer to write an article on this topic.\",\n",
    "    allow_delegation=False,\n",
    "\tverbose=True\n",
    ")"
   ]
  },
  {
   "cell_type": "markdown",
   "metadata": {},
   "source": [
    "### Agent: Writer"
   ]
  },
  {
   "cell_type": "code",
   "execution_count": 5,
   "metadata": {
    "height": 370
   },
   "outputs": [],
   "source": [
    "writer = Agent(\n",
    "    role=\"Content Writer\",\n",
    "    goal=\"Write insightful and factually accurate \"\n",
    "         \"opinion piece about the topic: {topic}\",\n",
    "    backstory=\"You're working on a writing \"\n",
    "              \"a new opinion piece about the topic: {topic}. \"\n",
    "              \"You base your writing on the work of \"\n",
    "              \"the Content Planner, who provides an outline \"\n",
    "              \"and relevant context about the topic. \"\n",
    "              \"You follow the main objectives and \"\n",
    "              \"direction of the outline, \"\n",
    "              \"as provide by the Content Planner. \"\n",
    "              \"You also provide objective and impartial insights \"\n",
    "              \"and back them up with information \"\n",
    "              \"provide by the Content Planner. \"\n",
    "              \"You acknowledge in your opinion piece \"\n",
    "              \"when your statements are opinions \"\n",
    "              \"as opposed to objective statements.\",\n",
    "    allow_delegation=False,\n",
    "    verbose=True\n",
    ")"
   ]
  },
  {
   "cell_type": "markdown",
   "metadata": {},
   "source": [
    "### Agent: Editor"
   ]
  },
  {
   "cell_type": "code",
   "execution_count": 6,
   "metadata": {
    "height": 268
   },
   "outputs": [],
   "source": [
    "editor = Agent(\n",
    "    role=\"Editor\",\n",
    "    goal=\"Edit a given blog post to align with \"\n",
    "         \"the writing style of the organization. \",\n",
    "    backstory=\"You are an editor who receives a blog post \"\n",
    "              \"from the Content Writer. \"\n",
    "              \"Your goal is to review the blog post \"\n",
    "              \"to ensure that it follows journalistic best practices,\"\n",
    "              \"provides balanced viewpoints \"\n",
    "              \"when providing opinions or assertions, \"\n",
    "              \"and also avoids major controversial topics \"\n",
    "              \"or opinions when possible.\",\n",
    "    allow_delegation=False,\n",
    "    verbose=True\n",
    ")"
   ]
  },
  {
   "cell_type": "markdown",
   "metadata": {},
   "source": [
    "## Creating Tasks\n",
    "\n",
    "- Define your Tasks, and provide them a `description`, `expected_output` and `agent`."
   ]
  },
  {
   "cell_type": "markdown",
   "metadata": {},
   "source": [
    "### Task: Plan"
   ]
  },
  {
   "cell_type": "code",
   "execution_count": 7,
   "metadata": {
    "height": 268
   },
   "outputs": [],
   "source": [
    "plan = Task(\n",
    "    description=(\n",
    "        \"1. Prioritize the latest trends, key players, \"\n",
    "            \"and noteworthy news on {topic}.\\n\"\n",
    "        \"2. Identify the target audience, considering \"\n",
    "            \"their interests and pain points.\\n\"\n",
    "        \"3. Develop a detailed content outline including \"\n",
    "            \"an introduction, key points, and a call to action.\\n\"\n",
    "        \"4. Include SEO keywords and relevant data or sources.\"\n",
    "    ),\n",
    "    expected_output=\"A comprehensive content plan document \"\n",
    "        \"with an outline, audience analysis, \"\n",
    "        \"SEO keywords, and resources.\",\n",
    "    agent=planner,\n",
    ")"
   ]
  },
  {
   "cell_type": "markdown",
   "metadata": {},
   "source": [
    "### Task: Write"
   ]
  },
  {
   "cell_type": "code",
   "execution_count": 8,
   "metadata": {
    "height": 319
   },
   "outputs": [],
   "source": [
    "write = Task(\n",
    "    description=(\n",
    "        \"1. Use the content plan to craft a compelling \"\n",
    "            \"blog post on {topic}.\\n\"\n",
    "        \"2. Incorporate SEO keywords naturally.\\n\"\n",
    "\t\t\"3. Sections/Subtitles are properly named \"\n",
    "            \"in an engaging manner.\\n\"\n",
    "        \"4. Ensure the post is structured with an \"\n",
    "            \"engaging introduction, insightful body, \"\n",
    "            \"and a summarizing conclusion.\\n\"\n",
    "        \"5. Proofread for grammatical errors and \"\n",
    "            \"alignment with the brand's voice.\\n\"\n",
    "    ),\n",
    "    expected_output=\"A well-written blog post \"\n",
    "        \"in markdown format, ready for publication, \"\n",
    "        \"each section should have 2 or 3 paragraphs.\",\n",
    "    agent=writer,\n",
    ")"
   ]
  },
  {
   "cell_type": "markdown",
   "metadata": {},
   "source": [
    "### Task: Edit"
   ]
  },
  {
   "cell_type": "code",
   "execution_count": 9,
   "metadata": {
    "height": 166
   },
   "outputs": [],
   "source": [
    "edit = Task(\n",
    "    description=(\"Proofread the given blog post for \"\n",
    "                 \"grammatical errors and \"\n",
    "                 \"alignment with the brand's voice.\"),\n",
    "    expected_output=\"A well-written blog post in markdown format, \"\n",
    "                    \"ready for publication, \"\n",
    "                    \"each section should have 2 or 3 paragraphs.\",\n",
    "    agent=editor\n",
    ")"
   ]
  },
  {
   "cell_type": "markdown",
   "metadata": {},
   "source": [
    "## Creating the Crew\n",
    "\n",
    "- Create your crew of Agents\n",
    "- Pass the tasks to be performed by those agents.\n",
    "    - **Note**: *For this simple example*, the tasks will be performed sequentially (i.e they are dependent on each other), so the _order_ of the task in the list _matters_.\n",
    "- `verbose=2` allows you to see all the logs of the execution. "
   ]
  },
  {
   "cell_type": "code",
   "execution_count": 10,
   "metadata": {
    "height": 98
   },
   "outputs": [],
   "source": [
    "crew = Crew(\n",
    "    agents=[planner, writer, editor],\n",
    "    tasks=[plan, write, edit],\n",
    "    verbose=2\n",
    ")"
   ]
  },
  {
   "cell_type": "markdown",
   "metadata": {},
   "source": [
    "## Running the Crew"
   ]
  },
  {
   "cell_type": "markdown",
   "metadata": {},
   "source": [
    "**Note**: LLMs can provide different outputs for they same input, so what you get might be different than what you see in the video."
   ]
  },
  {
   "cell_type": "code",
   "execution_count": 11,
   "metadata": {
    "height": 30
   },
   "outputs": [
    {
     "name": "stdout",
     "output_type": "stream",
     "text": [
      "\u001b[1m\u001b[95m [DEBUG]: == Working Agent: Content Planner\u001b[00m\n",
      "\u001b[1m\u001b[95m [INFO]: == Starting Task: 1. Prioritize the latest trends, key players, and noteworthy news on Artificial Intelligence.\n",
      "2. Identify the target audience, considering their interests and pain points.\n",
      "3. Develop a detailed content outline including an introduction, key points, and a call to action.\n",
      "4. Include SEO keywords and relevant data or sources.\u001b[00m\n",
      "\n",
      "\n",
      "\u001b[1m> Entering new CrewAgentExecutor chain...\u001b[0m\n",
      "\u001b[32;1m\u001b[1;3mI now can give a great answer\n",
      "\n",
      "Final Answer: \n",
      "\n",
      "Content Plan: \n",
      "Title: Unveiling the Latest Trends and Key Players in Artificial Intelligence\n",
      "\n",
      "Introduction: \n",
      "- Brief overview of Artificial Intelligence (AI) and its impact on various industries\n",
      "- Mention of the rapid advancements and innovations in AI technology\n",
      "\n",
      "Key Points: \n",
      "1. Latest Trends in Artificial Intelligence:\n",
      "- Machine learning and deep learning algorithms\n",
      "- Natural Language Processing (NLP) and sentiment analysis\n",
      "- AI-powered chatbots and virtual assistants\n",
      "- Autonomous vehicles and robotics\n",
      "- AI in healthcare, finance, and retail sectors\n",
      "\n",
      "2. Key Players in the AI Industry:\n",
      "- Google (DeepMind)\n",
      "- IBM (Watson)\n",
      "- Amazon (Alexa)\n",
      "- Microsoft (Cortana)\n",
      "- Tesla (Self-driving cars)\n",
      "- Facebook (AI research)\n",
      "\n",
      "3. Noteworthy News in Artificial Intelligence:\n",
      "- Breakthroughs in AI ethics and regulation\n",
      "- Collaborations between tech giants and AI startups\n",
      "- Impact of AI on job market and workforce\n",
      "- AI applications in combating climate change and global challenges\n",
      "\n",
      "Audience Analysis: \n",
      "- Target Audience: Tech enthusiasts, industry professionals, business owners, students\n",
      "- Interests: Latest technology trends, AI applications, future implications of AI\n",
      "- Pain Points: Understanding complex AI concepts, staying updated on AI news, implementing AI in their respective fields\n",
      "\n",
      "Content Outline: \n",
      "1. Introduction to Artificial Intelligence\n",
      "2. Latest Trends in AI\n",
      "3. Key Players in the AI Industry\n",
      "4. Noteworthy News in AI\n",
      "5. Audience Engagement and Call to Action\n",
      "\n",
      "SEO Keywords: \n",
      "- Artificial Intelligence trends\n",
      "- Key players in AI\n",
      "- Latest AI news\n",
      "- AI technology advancements\n",
      "- Impact of AI on industries\n",
      "\n",
      "Resources: \n",
      "- Forbes article on AI trends\n",
      "- Gartner report on top AI companies\n",
      "- TechCrunch news on AI breakthroughs\n",
      "- Harvard Business Review on AI ethics\n",
      "- TED Talk on future of AI by industry experts\n",
      "\n",
      "Overall, this content plan aims to provide valuable insights on the latest trends, key players, and noteworthy news in the field of Artificial Intelligence, catering to a diverse audience with varying interests and pain points. By incorporating relevant SEO keywords and credible resources, the blog article will offer a comprehensive overview of the dynamic AI landscape.\u001b[0m\n",
      "\n",
      "\u001b[1m> Finished chain.\u001b[0m\n",
      "\u001b[1m\u001b[92m [DEBUG]: == [Content Planner] Task output: Content Plan: \n",
      "Title: Unveiling the Latest Trends and Key Players in Artificial Intelligence\n",
      "\n",
      "Introduction: \n",
      "- Brief overview of Artificial Intelligence (AI) and its impact on various industries\n",
      "- Mention of the rapid advancements and innovations in AI technology\n",
      "\n",
      "Key Points: \n",
      "1. Latest Trends in Artificial Intelligence:\n",
      "- Machine learning and deep learning algorithms\n",
      "- Natural Language Processing (NLP) and sentiment analysis\n",
      "- AI-powered chatbots and virtual assistants\n",
      "- Autonomous vehicles and robotics\n",
      "- AI in healthcare, finance, and retail sectors\n",
      "\n",
      "2. Key Players in the AI Industry:\n",
      "- Google (DeepMind)\n",
      "- IBM (Watson)\n",
      "- Amazon (Alexa)\n",
      "- Microsoft (Cortana)\n",
      "- Tesla (Self-driving cars)\n",
      "- Facebook (AI research)\n",
      "\n",
      "3. Noteworthy News in Artificial Intelligence:\n",
      "- Breakthroughs in AI ethics and regulation\n",
      "- Collaborations between tech giants and AI startups\n",
      "- Impact of AI on job market and workforce\n",
      "- AI applications in combating climate change and global challenges\n",
      "\n",
      "Audience Analysis: \n",
      "- Target Audience: Tech enthusiasts, industry professionals, business owners, students\n",
      "- Interests: Latest technology trends, AI applications, future implications of AI\n",
      "- Pain Points: Understanding complex AI concepts, staying updated on AI news, implementing AI in their respective fields\n",
      "\n",
      "Content Outline: \n",
      "1. Introduction to Artificial Intelligence\n",
      "2. Latest Trends in AI\n",
      "3. Key Players in the AI Industry\n",
      "4. Noteworthy News in AI\n",
      "5. Audience Engagement and Call to Action\n",
      "\n",
      "SEO Keywords: \n",
      "- Artificial Intelligence trends\n",
      "- Key players in AI\n",
      "- Latest AI news\n",
      "- AI technology advancements\n",
      "- Impact of AI on industries\n",
      "\n",
      "Resources: \n",
      "- Forbes article on AI trends\n",
      "- Gartner report on top AI companies\n",
      "- TechCrunch news on AI breakthroughs\n",
      "- Harvard Business Review on AI ethics\n",
      "- TED Talk on future of AI by industry experts\n",
      "\n",
      "Overall, this content plan aims to provide valuable insights on the latest trends, key players, and noteworthy news in the field of Artificial Intelligence, catering to a diverse audience with varying interests and pain points. By incorporating relevant SEO keywords and credible resources, the blog article will offer a comprehensive overview of the dynamic AI landscape.\n",
      "\n",
      "\u001b[00m\n",
      "\u001b[1m\u001b[95m [DEBUG]: == Working Agent: Content Writer\u001b[00m\n",
      "\u001b[1m\u001b[95m [INFO]: == Starting Task: 1. Use the content plan to craft a compelling blog post on Artificial Intelligence.\n",
      "2. Incorporate SEO keywords naturally.\n",
      "3. Sections/Subtitles are properly named in an engaging manner.\n",
      "4. Ensure the post is structured with an engaging introduction, insightful body, and a summarizing conclusion.\n",
      "5. Proofread for grammatical errors and alignment with the brand's voice.\n",
      "\u001b[00m\n",
      "\n",
      "\n",
      "\u001b[1m> Entering new CrewAgentExecutor chain...\u001b[0m\n",
      "\u001b[32;1m\u001b[1;3mI now have all the necessary information to create a well-structured and insightful blog post on Artificial Intelligence. I will make sure to incorporate the key points from the content plan, use engaging language, and provide valuable insights for the target audience.\n",
      "\n",
      "Final Answer:\n",
      "\n",
      "# Unveiling the Latest Trends and Key Players in Artificial Intelligence\n",
      "\n",
      "## Introduction\n",
      "Artificial Intelligence (AI) has become a transformative force across various industries, revolutionizing the way businesses operate and individuals interact with technology. The rapid advancements in AI technology have paved the way for innovative solutions and futuristic possibilities. From machine learning algorithms to AI-powered chatbots, the landscape of AI continues to evolve at an unprecedented pace.\n",
      "\n",
      "## Latest Trends in AI\n",
      "One of the prominent trends in AI is the widespread adoption of machine learning and deep learning algorithms, enabling machines to learn from data and make predictions. Natural Language Processing (NLP) and sentiment analysis have also gained traction, allowing AI systems to understand and interpret human language. AI-powered chatbots and virtual assistants have become increasingly prevalent in customer service and support functions, enhancing user experiences. Moreover, the development of autonomous vehicles and robotics showcases the potential of AI in shaping the future of transportation and automation. Industries such as healthcare, finance, and retail are leveraging AI technologies to drive efficiency, improve decision-making, and enhance customer engagement.\n",
      "\n",
      "## Key Players in the AI Industry\n",
      "Several key players dominate the AI industry, leading the way in innovation and research. Google's DeepMind has made significant strides in machine learning and AI research, while IBM's Watson platform offers advanced cognitive computing capabilities. Amazon's Alexa has become a household name in smart home devices, and Microsoft's Cortana powers intelligent personal assistants. Tesla's self-driving cars exemplify the integration of AI in the automotive sector, and Facebook continues to invest in AI research to enhance user experiences and platform functionalities.\n",
      "\n",
      "## Noteworthy News in AI\n",
      "Recent developments in AI have sparked discussions on ethics, regulations, and the societal impact of AI technologies. Tech giants are partnering with AI startups to drive innovation and address complex challenges, while the implications of AI on the job market and workforce remain a topic of debate. AI applications are also being explored in combating climate change and addressing global challenges, showcasing the potential of AI to drive positive change in the world.\n",
      "\n",
      "## Audience Engagement and Call to Action\n",
      "For tech enthusiasts, industry professionals, business owners, and students alike, staying informed about the latest trends and key players in AI is crucial. By understanding the impact of AI on industries and society, individuals can leverage AI technologies to drive innovation and create value in their respective fields. As AI continues to shape the future of technology and business, it is essential to stay updated on AI advancements and engage in discussions on the implications of AI on our daily lives.\n",
      "\n",
      "In conclusion, Artificial Intelligence represents a dynamic and evolving field with endless possibilities and challenges. By exploring the latest trends, key players, and noteworthy news in AI, we can gain valuable insights into the future of technology and the transformative power of AI in shaping our world. Embracing AI technologies responsibly and ethically will be essential in harnessing the full potential of AI for the benefit of society and the advancement of humanity. Let's continue to explore, innovate, and collaborate in the exciting realm of Artificial Intelligence.\u001b[0m\n",
      "\n",
      "\u001b[1m> Finished chain.\u001b[0m\n",
      "\u001b[1m\u001b[92m [DEBUG]: == [Content Writer] Task output: # Unveiling the Latest Trends and Key Players in Artificial Intelligence\n",
      "\n",
      "## Introduction\n",
      "Artificial Intelligence (AI) has become a transformative force across various industries, revolutionizing the way businesses operate and individuals interact with technology. The rapid advancements in AI technology have paved the way for innovative solutions and futuristic possibilities. From machine learning algorithms to AI-powered chatbots, the landscape of AI continues to evolve at an unprecedented pace.\n",
      "\n",
      "## Latest Trends in AI\n",
      "One of the prominent trends in AI is the widespread adoption of machine learning and deep learning algorithms, enabling machines to learn from data and make predictions. Natural Language Processing (NLP) and sentiment analysis have also gained traction, allowing AI systems to understand and interpret human language. AI-powered chatbots and virtual assistants have become increasingly prevalent in customer service and support functions, enhancing user experiences. Moreover, the development of autonomous vehicles and robotics showcases the potential of AI in shaping the future of transportation and automation. Industries such as healthcare, finance, and retail are leveraging AI technologies to drive efficiency, improve decision-making, and enhance customer engagement.\n",
      "\n",
      "## Key Players in the AI Industry\n",
      "Several key players dominate the AI industry, leading the way in innovation and research. Google's DeepMind has made significant strides in machine learning and AI research, while IBM's Watson platform offers advanced cognitive computing capabilities. Amazon's Alexa has become a household name in smart home devices, and Microsoft's Cortana powers intelligent personal assistants. Tesla's self-driving cars exemplify the integration of AI in the automotive sector, and Facebook continues to invest in AI research to enhance user experiences and platform functionalities.\n",
      "\n",
      "## Noteworthy News in AI\n",
      "Recent developments in AI have sparked discussions on ethics, regulations, and the societal impact of AI technologies. Tech giants are partnering with AI startups to drive innovation and address complex challenges, while the implications of AI on the job market and workforce remain a topic of debate. AI applications are also being explored in combating climate change and addressing global challenges, showcasing the potential of AI to drive positive change in the world.\n",
      "\n",
      "## Audience Engagement and Call to Action\n",
      "For tech enthusiasts, industry professionals, business owners, and students alike, staying informed about the latest trends and key players in AI is crucial. By understanding the impact of AI on industries and society, individuals can leverage AI technologies to drive innovation and create value in their respective fields. As AI continues to shape the future of technology and business, it is essential to stay updated on AI advancements and engage in discussions on the implications of AI on our daily lives.\n",
      "\n",
      "In conclusion, Artificial Intelligence represents a dynamic and evolving field with endless possibilities and challenges. By exploring the latest trends, key players, and noteworthy news in AI, we can gain valuable insights into the future of technology and the transformative power of AI in shaping our world. Embracing AI technologies responsibly and ethically will be essential in harnessing the full potential of AI for the benefit of society and the advancement of humanity. Let's continue to explore, innovate, and collaborate in the exciting realm of Artificial Intelligence.\n",
      "\n",
      "\u001b[00m\n",
      "\u001b[1m\u001b[95m [DEBUG]: == Working Agent: Editor\u001b[00m\n",
      "\u001b[1m\u001b[95m [INFO]: == Starting Task: Proofread the given blog post for grammatical errors and alignment with the brand's voice.\u001b[00m\n",
      "\n",
      "\n",
      "\u001b[1m> Entering new CrewAgentExecutor chain...\u001b[0m\n"
     ]
    },
    {
     "name": "stdout",
     "output_type": "stream",
     "text": [
      "\u001b[32;1m\u001b[1;3mI now can give a great answer\n",
      "\n",
      "Final Answer:\n",
      "# Unveiling the Latest Trends and Key Players in Artificial Intelligence\n",
      "\n",
      "## Introduction\n",
      "Artificial Intelligence (AI) has become a transformative force across various industries, revolutionizing the way businesses operate and individuals interact with technology. The rapid advancements in AI technology have paved the way for innovative solutions and futuristic possibilities. From machine learning algorithms to AI-powered chatbots, the landscape of AI continues to evolve at an unprecedented pace.\n",
      "\n",
      "## Latest Trends in AI\n",
      "One of the prominent trends in AI is the widespread adoption of machine learning and deep learning algorithms, enabling machines to learn from data and make predictions. Natural Language Processing (NLP) and sentiment analysis have also gained traction, allowing AI systems to understand and interpret human language. AI-powered chatbots and virtual assistants have become increasingly prevalent in customer service and support functions, enhancing user experiences. Moreover, the development of autonomous vehicles and robotics showcases the potential of AI in shaping the future of transportation and automation. Industries such as healthcare, finance, and retail are leveraging AI technologies to drive efficiency, improve decision-making, and enhance customer engagement.\n",
      "\n",
      "## Key Players in the AI Industry\n",
      "Several key players dominate the AI industry, leading the way in innovation and research. Google's DeepMind has made significant strides in machine learning and AI research, while IBM's Watson platform offers advanced cognitive computing capabilities. Amazon's Alexa has become a household name in smart home devices, and Microsoft's Cortana powers intelligent personal assistants. Tesla's self-driving cars exemplify the integration of AI in the automotive sector, and Facebook continues to invest in AI research to enhance user experiences and platform functionalities.\n",
      "\n",
      "## Noteworthy News in AI\n",
      "Recent developments in AI have sparked discussions on ethics, regulations, and the societal impact of AI technologies. Tech giants are partnering with AI startups to drive innovation and address complex challenges, while the implications of AI on the job market and workforce remain a topic of debate. AI applications are also being explored in combating climate change and addressing global challenges, showcasing the potential of AI to drive positive change in the world.\n",
      "\n",
      "## Audience Engagement and Call to Action\n",
      "For tech enthusiasts, industry professionals, business owners, and students alike, staying informed about the latest trends and key players in AI is crucial. By understanding the impact of AI on industries and society, individuals can leverage AI technologies to drive innovation and create value in their respective fields. As AI continues to shape the future of technology and business, it is essential to stay updated on AI advancements and engage in discussions on the implications of AI on our daily lives.\n",
      "\n",
      "In conclusion, Artificial Intelligence represents a dynamic and evolving field with endless possibilities and challenges. By exploring the latest trends, key players, and noteworthy news in AI, we can gain valuable insights into the future of technology and the transformative power of AI in shaping our world. Embracing AI technologies responsibly and ethically will be essential in harnessing the full potential of AI for the benefit of society and the advancement of humanity. Let's continue to explore, innovate, and collaborate in the exciting realm of Artificial Intelligence.\u001b[0m\n",
      "\n",
      "\u001b[1m> Finished chain.\u001b[0m\n",
      "\u001b[1m\u001b[92m [DEBUG]: == [Editor] Task output: # Unveiling the Latest Trends and Key Players in Artificial Intelligence\n",
      "\n",
      "## Introduction\n",
      "Artificial Intelligence (AI) has become a transformative force across various industries, revolutionizing the way businesses operate and individuals interact with technology. The rapid advancements in AI technology have paved the way for innovative solutions and futuristic possibilities. From machine learning algorithms to AI-powered chatbots, the landscape of AI continues to evolve at an unprecedented pace.\n",
      "\n",
      "## Latest Trends in AI\n",
      "One of the prominent trends in AI is the widespread adoption of machine learning and deep learning algorithms, enabling machines to learn from data and make predictions. Natural Language Processing (NLP) and sentiment analysis have also gained traction, allowing AI systems to understand and interpret human language. AI-powered chatbots and virtual assistants have become increasingly prevalent in customer service and support functions, enhancing user experiences. Moreover, the development of autonomous vehicles and robotics showcases the potential of AI in shaping the future of transportation and automation. Industries such as healthcare, finance, and retail are leveraging AI technologies to drive efficiency, improve decision-making, and enhance customer engagement.\n",
      "\n",
      "## Key Players in the AI Industry\n",
      "Several key players dominate the AI industry, leading the way in innovation and research. Google's DeepMind has made significant strides in machine learning and AI research, while IBM's Watson platform offers advanced cognitive computing capabilities. Amazon's Alexa has become a household name in smart home devices, and Microsoft's Cortana powers intelligent personal assistants. Tesla's self-driving cars exemplify the integration of AI in the automotive sector, and Facebook continues to invest in AI research to enhance user experiences and platform functionalities.\n",
      "\n",
      "## Noteworthy News in AI\n",
      "Recent developments in AI have sparked discussions on ethics, regulations, and the societal impact of AI technologies. Tech giants are partnering with AI startups to drive innovation and address complex challenges, while the implications of AI on the job market and workforce remain a topic of debate. AI applications are also being explored in combating climate change and addressing global challenges, showcasing the potential of AI to drive positive change in the world.\n",
      "\n",
      "## Audience Engagement and Call to Action\n",
      "For tech enthusiasts, industry professionals, business owners, and students alike, staying informed about the latest trends and key players in AI is crucial. By understanding the impact of AI on industries and society, individuals can leverage AI technologies to drive innovation and create value in their respective fields. As AI continues to shape the future of technology and business, it is essential to stay updated on AI advancements and engage in discussions on the implications of AI on our daily lives.\n",
      "\n",
      "In conclusion, Artificial Intelligence represents a dynamic and evolving field with endless possibilities and challenges. By exploring the latest trends, key players, and noteworthy news in AI, we can gain valuable insights into the future of technology and the transformative power of AI in shaping our world. Embracing AI technologies responsibly and ethically will be essential in harnessing the full potential of AI for the benefit of society and the advancement of humanity. Let's continue to explore, innovate, and collaborate in the exciting realm of Artificial Intelligence.\n",
      "\n",
      "\u001b[00m\n"
     ]
    }
   ],
   "source": [
    "result = crew.kickoff(inputs={\"topic\": \"Artificial Intelligence\"})"
   ]
  },
  {
   "cell_type": "markdown",
   "metadata": {},
   "source": [
    "- Display the results of your execution as markdown in the notebook."
   ]
  },
  {
   "cell_type": "code",
   "execution_count": 12,
   "metadata": {
    "height": 47
   },
   "outputs": [
    {
     "data": {
      "text/markdown": [
       "# Unveiling the Latest Trends and Key Players in Artificial Intelligence\n",
       "\n",
       "## Introduction\n",
       "Artificial Intelligence (AI) has become a transformative force across various industries, revolutionizing the way businesses operate and individuals interact with technology. The rapid advancements in AI technology have paved the way for innovative solutions and futuristic possibilities. From machine learning algorithms to AI-powered chatbots, the landscape of AI continues to evolve at an unprecedented pace.\n",
       "\n",
       "## Latest Trends in AI\n",
       "One of the prominent trends in AI is the widespread adoption of machine learning and deep learning algorithms, enabling machines to learn from data and make predictions. Natural Language Processing (NLP) and sentiment analysis have also gained traction, allowing AI systems to understand and interpret human language. AI-powered chatbots and virtual assistants have become increasingly prevalent in customer service and support functions, enhancing user experiences. Moreover, the development of autonomous vehicles and robotics showcases the potential of AI in shaping the future of transportation and automation. Industries such as healthcare, finance, and retail are leveraging AI technologies to drive efficiency, improve decision-making, and enhance customer engagement.\n",
       "\n",
       "## Key Players in the AI Industry\n",
       "Several key players dominate the AI industry, leading the way in innovation and research. Google's DeepMind has made significant strides in machine learning and AI research, while IBM's Watson platform offers advanced cognitive computing capabilities. Amazon's Alexa has become a household name in smart home devices, and Microsoft's Cortana powers intelligent personal assistants. Tesla's self-driving cars exemplify the integration of AI in the automotive sector, and Facebook continues to invest in AI research to enhance user experiences and platform functionalities.\n",
       "\n",
       "## Noteworthy News in AI\n",
       "Recent developments in AI have sparked discussions on ethics, regulations, and the societal impact of AI technologies. Tech giants are partnering with AI startups to drive innovation and address complex challenges, while the implications of AI on the job market and workforce remain a topic of debate. AI applications are also being explored in combating climate change and addressing global challenges, showcasing the potential of AI to drive positive change in the world.\n",
       "\n",
       "## Audience Engagement and Call to Action\n",
       "For tech enthusiasts, industry professionals, business owners, and students alike, staying informed about the latest trends and key players in AI is crucial. By understanding the impact of AI on industries and society, individuals can leverage AI technologies to drive innovation and create value in their respective fields. As AI continues to shape the future of technology and business, it is essential to stay updated on AI advancements and engage in discussions on the implications of AI on our daily lives.\n",
       "\n",
       "In conclusion, Artificial Intelligence represents a dynamic and evolving field with endless possibilities and challenges. By exploring the latest trends, key players, and noteworthy news in AI, we can gain valuable insights into the future of technology and the transformative power of AI in shaping our world. Embracing AI technologies responsibly and ethically will be essential in harnessing the full potential of AI for the benefit of society and the advancement of humanity. Let's continue to explore, innovate, and collaborate in the exciting realm of Artificial Intelligence."
      ],
      "text/plain": [
       "<IPython.core.display.Markdown object>"
      ]
     },
     "execution_count": 12,
     "metadata": {},
     "output_type": "execute_result"
    }
   ],
   "source": [
    "from IPython.display import Markdown\n",
    "Markdown(result)"
   ]
  },
  {
   "cell_type": "markdown",
   "metadata": {},
   "source": [
    "## Try it Yourself\n",
    "\n",
    "- Pass in a topic of your choice and see what the agents come up with!"
   ]
  },
  {
   "cell_type": "code",
   "execution_count": null,
   "metadata": {
    "height": 47
   },
   "outputs": [],
   "source": [
    "topic = \"YOUR TOPIC HERE\"\n",
    "result = crew.kickoff(inputs={\"topic\": topic})"
   ]
  },
  {
   "cell_type": "code",
   "execution_count": null,
   "metadata": {
    "height": 30
   },
   "outputs": [],
   "source": [
    "Markdown(result)"
   ]
  },
  {
   "cell_type": "markdown",
   "metadata": {},
   "source": [
    "<a name='1'></a>\n",
    " ## Other Popular Models as LLM for your Agents"
   ]
  },
  {
   "cell_type": "markdown",
   "metadata": {},
   "source": [
    "#### Hugging Face (HuggingFaceHub endpoint)\n",
    "\n",
    "```Python\n",
    "from langchain_community.llms import HuggingFaceHub\n",
    "\n",
    "llm = HuggingFaceHub(\n",
    "    repo_id=\"HuggingFaceH4/zephyr-7b-beta\",\n",
    "    huggingfacehub_api_token=\"<HF_TOKEN_HERE>\",\n",
    "    task=\"text-generation\",\n",
    ")\n",
    "\n",
    "### you will pass \"llm\" to your agent function\n",
    "```"
   ]
  },
  {
   "cell_type": "markdown",
   "metadata": {},
   "source": [
    "#### Mistral API\n",
    "\n",
    "```Python\n",
    "OPENAI_API_KEY=your-mistral-api-key\n",
    "OPENAI_API_BASE=https://api.mistral.ai/v1\n",
    "OPENAI_MODEL_NAME=\"mistral-small\"\n",
    "```"
   ]
  },
  {
   "cell_type": "markdown",
   "metadata": {},
   "source": [
    "#### Cohere\n",
    "\n",
    "```Python\n",
    "from langchain_community.chat_models import ChatCohere\n",
    "# Initialize language model\n",
    "os.environ[\"COHERE_API_KEY\"] = \"your-cohere-api-key\"\n",
    "llm = ChatCohere()\n",
    "\n",
    "### you will pass \"llm\" to your agent function\n",
    "```"
   ]
  },
  {
   "cell_type": "markdown",
   "metadata": {},
   "source": [
    "### For using Llama locally with Ollama and more, checkout the crewAI documentation on [Connecting to any LLM](https://docs.crewai.com/how-to/LLM-Connections/)."
   ]
  },
  {
   "cell_type": "code",
   "execution_count": null,
   "metadata": {
    "height": 30
   },
   "outputs": [],
   "source": []
  },
  {
   "cell_type": "code",
   "execution_count": null,
   "metadata": {
    "height": 30
   },
   "outputs": [],
   "source": []
  },
  {
   "cell_type": "code",
   "execution_count": null,
   "metadata": {
    "height": 30
   },
   "outputs": [],
   "source": []
  }
 ],
 "metadata": {
  "colab": {
   "gpuType": "T4",
   "provenance": []
  },
  "kernelspec": {
   "display_name": "Python 3 (ipykernel)",
   "language": "python",
   "name": "python3"
  },
  "language_info": {
   "codemirror_mode": {
    "name": "ipython",
    "version": 3
   },
   "file_extension": ".py",
   "mimetype": "text/x-python",
   "name": "python",
   "nbconvert_exporter": "python",
   "pygments_lexer": "ipython3",
   "version": "3.11.9"
  }
 },
 "nbformat": 4,
 "nbformat_minor": 4
}

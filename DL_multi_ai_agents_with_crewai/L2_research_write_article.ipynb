{
 "cells": [
  {
   "cell_type": "markdown",
   "metadata": {},
   "source": [
    "You can download the `requirements.txt` for this course from the workspace of this lab. `File --> Open...`"
   ]
  },
  {
   "cell_type": "markdown",
   "metadata": {},
   "source": [
    "# L2: Create Agents to Research and Write an Article\n",
    "\n",
    "In this lesson, you will be introduced to the foundational concepts of multi-agent systems and get an overview of the crewAI framework."
   ]
  },
  {
   "cell_type": "markdown",
   "metadata": {},
   "source": [
    "The libraries are already installed in the classroom. If you're running this notebook on your own machine, you can install the following:\n",
    "```Python\n",
    "!pip install crewai==0.28.8 crewai_tools==0.1.6 langchain_community==0.0.29\n",
    "```"
   ]
  },
  {
   "cell_type": "code",
   "execution_count": 3,
   "metadata": {
    "height": 64
   },
   "outputs": [],
   "source": [
    "# Warning control\n",
    "import warnings\n",
    "warnings.filterwarnings('ignore')"
   ]
  },
  {
   "cell_type": "markdown",
   "metadata": {},
   "source": [
    "- Import from the crewAI libray."
   ]
  },
  {
   "cell_type": "code",
   "execution_count": 4,
   "metadata": {
    "height": 30
   },
   "outputs": [],
   "source": [
    "from crewai import Agent, Task, Crew"
   ]
  },
  {
   "cell_type": "markdown",
   "metadata": {},
   "source": [
    "- As a LLM for your agents, you'll be using OpenAI's `gpt-3.5-turbo`.\n",
    "\n",
    "**Optional Note:** crewAI also allow other popular models to be used as a LLM for your Agents. You can see some of the examples at the [bottom of the notebook](#1)."
   ]
  },
  {
   "cell_type": "code",
   "execution_count": 5,
   "metadata": {
    "height": 98
   },
   "outputs": [],
   "source": [
    "import os\n",
    "from utils import get_openai_api_key\n",
    "\n",
    "openai_api_key = get_openai_api_key()\n",
    "os.environ[\"OPENAI_MODEL_NAME\"] = 'gpt-3.5-turbo'"
   ]
  },
  {
   "cell_type": "markdown",
   "metadata": {},
   "source": [
    "## Creating Agents\n",
    "\n",
    "- Define your Agents, and provide them a `role`, `goal` and `backstory`.\n",
    "- It has been seen that LLMs perform better when they are role playing."
   ]
  },
  {
   "cell_type": "markdown",
   "metadata": {},
   "source": [
    "### Agent: Planner\n",
    "\n",
    "**Note**: The benefit of using _multiple strings_ :\n",
    "```Python\n",
    "varname = \"line 1 of text\"\n",
    "          \"line 2 of text\"\n",
    "```\n",
    "\n",
    "versus the _triple quote docstring_:\n",
    "```Python\n",
    "varname = \"\"\"line 1 of text\n",
    "             line 2 of text\n",
    "          \"\"\"\n",
    "```\n",
    "is that it can avoid adding those whitespaces and newline characters, making it better formatted to be passed to the LLM."
   ]
  },
  {
   "cell_type": "code",
   "execution_count": 12,
   "metadata": {
    "height": 234
   },
   "outputs": [],
   "source": [
    "archaeologist = Agent(\n",
    "    role=\"Expert Archaeologist\",\n",
    "    goal=\"Gather archaeological evidences and facts on {topic}\",\n",
    "    backstory=\"You're working on gathering all forms of archaeological evidences  \"\n",
    "              \"about the topic: {topic}.\"\n",
    "              \"You collect information that helps the \"\n",
    "              \"audience learn about the mentioned topic \"\n",
    "              \"from an archaeological point of view. \"\n",
    "              \"Your work is the basis for \"\n",
    "              \"the Content Writer to write an indepth research paper on this topic.\",\n",
    "    allow_delegation=False,\n",
    "\tverbose=True\n",
    ")"
   ]
  },
  {
   "cell_type": "code",
   "execution_count": 13,
   "metadata": {
    "height": 234
   },
   "outputs": [],
   "source": [
    "anthropologist = Agent(\n",
    "    role=\"Expert Anthropologist\",\n",
    "    goal=\"Gather anthropological/cultural evidences and facts on {topic}\",\n",
    "    backstory=\"You're working on gathering all forms of cultural/anthropological \"\n",
    "              \"evidences about the topic: {topic}.\"\n",
    "              \"You collect information that helps the \"\n",
    "              \"audience learn about the mentioned topic \"\n",
    "              \"from an anthropological/cultural point of view. \"\n",
    "              \"Your work is the basis for \"\n",
    "              \"the Content Writer to write an indepth research paper on this topic.\",\n",
    "    allow_delegation=False,\n",
    "\tverbose=True\n",
    ")"
   ]
  },
  {
   "cell_type": "code",
   "execution_count": 14,
   "metadata": {
    "height": 234
   },
   "outputs": [],
   "source": [
    "historian = Agent(\n",
    "    role=\"Expert Historian\",\n",
    "    goal=\"Gather historical evidences and facts on {topic}\",\n",
    "    backstory=\"You're working on gathering all forms of historical \"\n",
    "              \"evidences about the topic: {topic}.\"\n",
    "              \"You collect information that helps the \"\n",
    "              \"audience learn about the mentioned topic \"\n",
    "              \"from a historical point of view. \"\n",
    "              \"Your work is the basis for \"\n",
    "              \"the Content Writer to write an indepth research paper on this topic.\",\n",
    "    allow_delegation=False,\n",
    "\tverbose=True\n",
    ")"
   ]
  },
  {
   "cell_type": "markdown",
   "metadata": {},
   "source": [
    "### Agent: Writer"
   ]
  },
  {
   "cell_type": "code",
   "execution_count": 5,
   "metadata": {
    "height": 370
   },
   "outputs": [],
   "source": [
    "writer = Agent(\n",
    "    role=\"Content Writer\",\n",
    "    goal=\"Write insightful, engaging and factually accurate \"\n",
    "         \"research paper about the topic: {topic}\",\n",
    "    backstory=\"You're working on writing \"\n",
    "              \"a research paper about the topic: {topic}. \"\n",
    "              \"You base your writing on the work of \"\n",
    "              \"the Expert Archaeologist, the Expert Anthropologist, and \"\n",
    "              \"the Expert Historian, who provide archaeological, anthropological, \"\n",
    "              \"and historical evidences that are relevant to the topic. \"\n",
    "              \"You follow the main objectives and \"\n",
    "              \"direction of the outline, \"\n",
    "              \"as provide by the Content Planner. \"\n",
    "              \"You also provide objective and impartial insights \"\n",
    "              \"and back them up with information \"\n",
    "              \"provide by the Content Planner. \"\n",
    "              \"You acknowledge in your opinion piece \"\n",
    "              \"when your statements are opinions \"\n",
    "              \"as opposed to objective statements.\",\n",
    "    allow_delegation=False,\n",
    "    verbose=True\n",
    ")"
   ]
  },
  {
   "cell_type": "markdown",
   "metadata": {},
   "source": [
    "### Agent: Editor"
   ]
  },
  {
   "cell_type": "code",
   "execution_count": 6,
   "metadata": {
    "height": 268
   },
   "outputs": [],
   "source": [
    "editor = Agent(\n",
    "    role=\"Editor\",\n",
    "    goal=\"Edit a given blog post to align with \"\n",
    "         \"the writing style of the organization. \",\n",
    "    backstory=\"You are an editor who receives a blog post \"\n",
    "              \"from the Content Writer. \"\n",
    "              \"Your goal is to review the blog post \"\n",
    "              \"to ensure that it follows journalistic best practices,\"\n",
    "              \"provides balanced viewpoints \"\n",
    "              \"when providing opinions or assertions, \"\n",
    "              \"and also avoids major controversial topics \"\n",
    "              \"or opinions when possible.\",\n",
    "    allow_delegation=False,\n",
    "    verbose=True\n",
    ")"
   ]
  },
  {
   "cell_type": "markdown",
   "metadata": {},
   "source": [
    "## Creating Tasks\n",
    "\n",
    "- Define your Tasks, and provide them a `description`, `expected_output` and `agent`."
   ]
  },
  {
   "cell_type": "markdown",
   "metadata": {},
   "source": [
    "### Task: Plan"
   ]
  },
  {
   "cell_type": "code",
   "execution_count": 7,
   "metadata": {
    "height": 268
   },
   "outputs": [],
   "source": [
    "plan = Task(\n",
    "    description=(\n",
    "        \"1. Prioritize the latest trends, key players, \"\n",
    "            \"and noteworthy news on {topic}.\\n\"\n",
    "        \"2. Identify the target audience, considering \"\n",
    "            \"their interests and pain points.\\n\"\n",
    "        \"3. Develop a detailed content outline including \"\n",
    "            \"an introduction, key points, and a call to action.\\n\"\n",
    "        \"4. Include SEO keywords and relevant data or sources.\"\n",
    "    ),\n",
    "    expected_output=\"A comprehensive content plan document \"\n",
    "        \"with an outline, audience analysis, \"\n",
    "        \"SEO keywords, and resources.\",\n",
    "    agent=planner,\n",
    ")"
   ]
  },
  {
   "cell_type": "markdown",
   "metadata": {},
   "source": [
    "### Task: Write"
   ]
  },
  {
   "cell_type": "code",
   "execution_count": 8,
   "metadata": {
    "height": 319
   },
   "outputs": [],
   "source": [
    "write = Task(\n",
    "    description=(\n",
    "        \"1. Use the content plan to craft a compelling \"\n",
    "            \"blog post on {topic}.\\n\"\n",
    "        \"2. Incorporate SEO keywords naturally.\\n\"\n",
    "\t\t\"3. Sections/Subtitles are properly named \"\n",
    "            \"in an engaging manner.\\n\"\n",
    "        \"4. Ensure the post is structured with an \"\n",
    "            \"engaging introduction, insightful body, \"\n",
    "            \"and a summarizing conclusion.\\n\"\n",
    "        \"5. Proofread for grammatical errors and \"\n",
    "            \"alignment with the brand's voice.\\n\"\n",
    "    ),\n",
    "    expected_output=\"A well-written blog post \"\n",
    "        \"in markdown format, ready for publication, \"\n",
    "        \"each section should have 2 or 3 paragraphs.\",\n",
    "    agent=writer,\n",
    ")"
   ]
  },
  {
   "cell_type": "markdown",
   "metadata": {},
   "source": [
    "### Task: Edit"
   ]
  },
  {
   "cell_type": "code",
   "execution_count": 9,
   "metadata": {
    "height": 166
   },
   "outputs": [],
   "source": [
    "edit = Task(\n",
    "    description=(\"Proofread the given blog post for \"\n",
    "                 \"grammatical errors and \"\n",
    "                 \"alignment with the brand's voice.\"),\n",
    "    expected_output=\"A well-written blog post in markdown format, \"\n",
    "                    \"ready for publication, \"\n",
    "                    \"each section should have 2 or 3 paragraphs.\",\n",
    "    agent=editor\n",
    ")"
   ]
  },
  {
   "cell_type": "markdown",
   "metadata": {},
   "source": [
    "## Creating the Crew\n",
    "\n",
    "- Create your crew of Agents\n",
    "- Pass the tasks to be performed by those agents.\n",
    "    - **Note**: *For this simple example*, the tasks will be performed sequentially (i.e they are dependent on each other), so the _order_ of the task in the list _matters_.\n",
    "- `verbose=2` allows you to see all the logs of the execution. "
   ]
  },
  {
   "cell_type": "code",
   "execution_count": 10,
   "metadata": {
    "height": 98
   },
   "outputs": [],
   "source": [
    "crew = Crew(\n",
    "    agents=[planner, writer, editor],\n",
    "    tasks=[plan, write, edit],\n",
    "    verbose=2\n",
    ")"
   ]
  },
  {
   "cell_type": "markdown",
   "metadata": {},
   "source": [
    "## Running the Crew"
   ]
  },
  {
   "cell_type": "markdown",
   "metadata": {},
   "source": [
    "**Note**: LLMs can provide different outputs for they same input, so what you get might be different than what you see in the video."
   ]
  },
  {
   "cell_type": "code",
   "execution_count": null,
   "metadata": {
    "height": 30
   },
   "outputs": [],
   "source": [
    "result = crew.kickoff(inputs={\"topic\": \"Artificial Intelligence\"})"
   ]
  },
  {
   "cell_type": "markdown",
   "metadata": {},
   "source": [
    "- Display the results of your execution as markdown in the notebook."
   ]
  },
  {
   "cell_type": "code",
   "execution_count": null,
   "metadata": {
    "height": 47
   },
   "outputs": [],
   "source": [
    "from IPython.display import Markdown\n",
    "Markdown(result)"
   ]
  },
  {
   "cell_type": "markdown",
   "metadata": {},
   "source": [
    "## Try it Yourself\n",
    "\n",
    "- Pass in a topic of your choice and see what the agents come up with!"
   ]
  },
  {
   "cell_type": "code",
   "execution_count": 12,
   "metadata": {
    "height": 47
   },
   "outputs": [
    {
     "name": "stdout",
     "output_type": "stream",
     "text": [
      "\u001b[1m\u001b[95m [DEBUG]: == Working Agent: Content Planner\u001b[00m\n",
      "\u001b[1m\u001b[95m [INFO]: == Starting Task: 1. Prioritize the latest trends, key players, and noteworthy news on Strategy for learning to read Pali.\n",
      "2. Identify the target audience, considering their interests and pain points.\n",
      "3. Develop a detailed content outline including an introduction, key points, and a call to action.\n",
      "4. Include SEO keywords and relevant data or sources.\u001b[00m\n",
      "\n",
      "\n",
      "\u001b[1m> Entering new CrewAgentExecutor chain...\u001b[0m\n",
      "\u001b[32;1m\u001b[1;3mI now can give a great answer\n",
      "\n",
      "Final Answer:\n",
      "\n",
      "Title: Mastering Pali: A Strategic Guide to Learning to Read Pali\n",
      "\n",
      "Introduction:\n",
      "- Brief overview of the importance of learning Pali and the challenges it presents.\n",
      "- Introduction of the strategies that will be discussed in the article.\n",
      "\n",
      "Key Points:\n",
      "1. Understanding the basics of Pali grammar and syntax:\n",
      "- Explanation of the unique features of Pali language.\n",
      "- Tips on how to approach learning grammar and syntax effectively.\n",
      "\n",
      "2. Building vocabulary through reading and practice:\n",
      "- Suggestions on resources for Pali texts and reading materials.\n",
      "- Strategies for expanding vocabulary through regular practice.\n",
      "\n",
      "3. Utilizing mnemonic devices and memory techniques:\n",
      "- Introduction to mnemonic devices for remembering Pali words and phrases.\n",
      "- Tips on how to effectively use memory techniques to enhance learning.\n",
      "\n",
      "4. Engaging with the Pali community:\n",
      "- Discussion on the benefits of joining Pali study groups or forums.\n",
      "- Tips on how to get involved in the Pali community for support and motivation.\n",
      "\n",
      "Call to Action:\n",
      "- Encouragement for readers to start implementing the strategies discussed in the article.\n",
      "- Invitation to share their progress and insights with the Pali learning community.\n",
      "\n",
      "Target Audience:\n",
      "- Individuals interested in deepening their understanding of Buddhist texts.\n",
      "- Language enthusiasts looking to expand their linguistic skills.\n",
      "- Students of Buddhism or Pali studies seeking to improve their reading proficiency.\n",
      "\n",
      "SEO Keywords:\n",
      "- Pali language learning\n",
      "- Pali reading strategies\n",
      "- Learn to read Pali\n",
      "- Pali grammar tips\n",
      "- Pali vocabulary building\n",
      "\n",
      "Resources:\n",
      "- Online Pali courses and tutorials\n",
      "- Pali dictionaries and grammar guides\n",
      "- Pali reading materials and texts\n",
      "- Pali study groups and forums\n",
      "\n",
      "By following the outlined content plan, the article will provide a comprehensive guide to mastering Pali through strategic learning strategies, catered to the target audience's interests and needs.\u001b[0m\n",
      "\n",
      "\u001b[1m> Finished chain.\u001b[0m\n",
      "\u001b[1m\u001b[92m [DEBUG]: == [Content Planner] Task output: Title: Mastering Pali: A Strategic Guide to Learning to Read Pali\n",
      "\n",
      "Introduction:\n",
      "- Brief overview of the importance of learning Pali and the challenges it presents.\n",
      "- Introduction of the strategies that will be discussed in the article.\n",
      "\n",
      "Key Points:\n",
      "1. Understanding the basics of Pali grammar and syntax:\n",
      "- Explanation of the unique features of Pali language.\n",
      "- Tips on how to approach learning grammar and syntax effectively.\n",
      "\n",
      "2. Building vocabulary through reading and practice:\n",
      "- Suggestions on resources for Pali texts and reading materials.\n",
      "- Strategies for expanding vocabulary through regular practice.\n",
      "\n",
      "3. Utilizing mnemonic devices and memory techniques:\n",
      "- Introduction to mnemonic devices for remembering Pali words and phrases.\n",
      "- Tips on how to effectively use memory techniques to enhance learning.\n",
      "\n",
      "4. Engaging with the Pali community:\n",
      "- Discussion on the benefits of joining Pali study groups or forums.\n",
      "- Tips on how to get involved in the Pali community for support and motivation.\n",
      "\n",
      "Call to Action:\n",
      "- Encouragement for readers to start implementing the strategies discussed in the article.\n",
      "- Invitation to share their progress and insights with the Pali learning community.\n",
      "\n",
      "Target Audience:\n",
      "- Individuals interested in deepening their understanding of Buddhist texts.\n",
      "- Language enthusiasts looking to expand their linguistic skills.\n",
      "- Students of Buddhism or Pali studies seeking to improve their reading proficiency.\n",
      "\n",
      "SEO Keywords:\n",
      "- Pali language learning\n",
      "- Pali reading strategies\n",
      "- Learn to read Pali\n",
      "- Pali grammar tips\n",
      "- Pali vocabulary building\n",
      "\n",
      "Resources:\n",
      "- Online Pali courses and tutorials\n",
      "- Pali dictionaries and grammar guides\n",
      "- Pali reading materials and texts\n",
      "- Pali study groups and forums\n",
      "\n",
      "By following the outlined content plan, the article will provide a comprehensive guide to mastering Pali through strategic learning strategies, catered to the target audience's interests and needs.\n",
      "\n",
      "\u001b[00m\n",
      "\u001b[1m\u001b[95m [DEBUG]: == Working Agent: Content Writer\u001b[00m\n",
      "\u001b[1m\u001b[95m [INFO]: == Starting Task: 1. Use the content plan to craft a compelling blog post on Strategy for learning to read Pali.\n",
      "2. Incorporate SEO keywords naturally.\n",
      "3. Sections/Subtitles are properly named in an engaging manner.\n",
      "4. Ensure the post is structured with an engaging introduction, insightful body, and a summarizing conclusion.\n",
      "5. Proofread for grammatical errors and alignment with the brand's voice.\n",
      "\u001b[00m\n",
      "\n",
      "\n",
      "\u001b[1m> Entering new CrewAgentExecutor chain...\u001b[0m\n",
      "\u001b[32;1m\u001b[1;3mI now can give a great answer\n",
      "\n",
      "Final Answer:\n",
      "\n",
      "# Mastering Pali: A Strategic Guide to Learning to Read Pali\n",
      "\n",
      "## Introduction\n",
      "\n",
      "Learning to read Pali, the language of the Buddhist scriptures, can be a rewarding but challenging endeavor. Mastering Pali opens up a world of ancient wisdom and spiritual teachings, but the unique grammar and syntax of the language can be daunting for beginners. In this article, we will explore strategic approaches to learning Pali that will help you navigate its complexities and deepen your understanding of Buddhist texts.\n",
      "\n",
      "## Understanding the basics of Pali grammar and syntax\n",
      "\n",
      "Pali is an ancient language that is closely related to Sanskrit and shares many grammatical features with other Indo-European languages. One of the key aspects of Pali grammar is its system of declensions, which govern the way nouns and pronouns are inflected for case, number, and gender. Understanding these basic principles is essential for grasping the structure of Pali sentences and texts.\n",
      "\n",
      "To approach learning Pali grammar effectively, it is recommended to start with a solid foundation of the language's fundamentals. Resources such as online courses, tutorials, and grammar guides can provide a structured introduction to Pali grammar and syntax. Regular practice and application of these concepts through reading Pali texts will help solidify your understanding and improve your reading proficiency.\n",
      "\n",
      "## Building vocabulary through reading and practice\n",
      "\n",
      "Expanding your Pali vocabulary is crucial for reading and understanding Buddhist texts. Reading Pali texts regularly and engaging with the language in context will help you acquire new words and phrases naturally. Resources such as Pali dictionaries and reading materials can aid in the process of building your vocabulary and familiarizing yourself with common Pali terms.\n",
      "\n",
      "To enhance your vocabulary retention, consider keeping a vocabulary journal or flashcards to review and reinforce new words regularly. Practice reading Pali texts aloud to improve your pronunciation and fluency, and challenge yourself with progressively more complex texts to expand your vocabulary further.\n",
      "\n",
      "## Utilizing mnemonic devices and memory techniques\n",
      "\n",
      "Mnemonic devices can be valuable tools for remembering Pali words and phrases. Techniques such as creating associations, visualizations, or acronyms can help you recall vocabulary more effectively. Additionally, memory techniques like spaced repetition or chunking can aid in retaining new information and improving your overall language learning experience.\n",
      "\n",
      "To make the most of mnemonic devices and memory techniques, incorporate them into your daily study routine. Create personalized mnemonic devices for challenging words or concepts, and review them regularly to reinforce your memory. Experiment with different techniques to find what works best for you and adapt them to suit your learning style.\n",
      "\n",
      "## Engaging with the Pali community\n",
      "\n",
      "Joining Pali study groups or forums can provide valuable support and motivation for your language learning journey. Connecting with fellow learners and experienced practitioners can offer insights, resources, and encouragement to help you stay motivated and focused on your goals. Engage in discussions, ask questions, and share your progress with the community to enhance your learning experience.\n",
      "\n",
      "To get involved in the Pali community, explore online forums, social media groups, or local study groups that cater to Pali language learners. Attend virtual or in-person events, workshops, or study sessions to connect with like-minded individuals and immerse yourself in the language and culture. By actively participating in the Pali community, you can enhance your learning experience and foster a sense of camaraderie with fellow language enthusiasts.\n",
      "\n",
      "## Call to Action\n",
      "\n",
      "Start implementing the strategies discussed in this article to enhance your learning journey and deepen your understanding of Pali. Practice regularly, engage with Pali texts and resources, utilize mnemonic devices and memory techniques, and connect with the Pali community for support and motivation. Share your progress and insights with others in the Pali learning community to inspire and encourage fellow learners on their path to mastering Pali.\n",
      "\n",
      "In conclusion, mastering Pali requires dedication, practice, and strategic learning approaches. By following the strategies outlined in this article and actively engaging with the Pali language and community, you can cultivate a deeper appreciation for Buddhist texts and expand your linguistic skills. Begin your journey to mastering Pali today and embark on a transformative learning experience that will enrich your spiritual and intellectual pursuits.\n",
      "\n",
      "Remember, the key to success lies in consistent practice, perseverance, and a genuine passion for the language. Embrace the challenges, celebrate the victories, and enjoy the journey of learning to read Pali. Good luck on your path to mastering this ancient and sacred language!\u001b[0m\n",
      "\n",
      "\u001b[1m> Finished chain.\u001b[0m\n",
      "\u001b[1m\u001b[92m [DEBUG]: == [Content Writer] Task output: # Mastering Pali: A Strategic Guide to Learning to Read Pali\n",
      "\n",
      "## Introduction\n",
      "\n",
      "Learning to read Pali, the language of the Buddhist scriptures, can be a rewarding but challenging endeavor. Mastering Pali opens up a world of ancient wisdom and spiritual teachings, but the unique grammar and syntax of the language can be daunting for beginners. In this article, we will explore strategic approaches to learning Pali that will help you navigate its complexities and deepen your understanding of Buddhist texts.\n",
      "\n",
      "## Understanding the basics of Pali grammar and syntax\n",
      "\n",
      "Pali is an ancient language that is closely related to Sanskrit and shares many grammatical features with other Indo-European languages. One of the key aspects of Pali grammar is its system of declensions, which govern the way nouns and pronouns are inflected for case, number, and gender. Understanding these basic principles is essential for grasping the structure of Pali sentences and texts.\n",
      "\n",
      "To approach learning Pali grammar effectively, it is recommended to start with a solid foundation of the language's fundamentals. Resources such as online courses, tutorials, and grammar guides can provide a structured introduction to Pali grammar and syntax. Regular practice and application of these concepts through reading Pali texts will help solidify your understanding and improve your reading proficiency.\n",
      "\n",
      "## Building vocabulary through reading and practice\n",
      "\n",
      "Expanding your Pali vocabulary is crucial for reading and understanding Buddhist texts. Reading Pali texts regularly and engaging with the language in context will help you acquire new words and phrases naturally. Resources such as Pali dictionaries and reading materials can aid in the process of building your vocabulary and familiarizing yourself with common Pali terms.\n",
      "\n",
      "To enhance your vocabulary retention, consider keeping a vocabulary journal or flashcards to review and reinforce new words regularly. Practice reading Pali texts aloud to improve your pronunciation and fluency, and challenge yourself with progressively more complex texts to expand your vocabulary further.\n",
      "\n",
      "## Utilizing mnemonic devices and memory techniques\n",
      "\n",
      "Mnemonic devices can be valuable tools for remembering Pali words and phrases. Techniques such as creating associations, visualizations, or acronyms can help you recall vocabulary more effectively. Additionally, memory techniques like spaced repetition or chunking can aid in retaining new information and improving your overall language learning experience.\n",
      "\n",
      "To make the most of mnemonic devices and memory techniques, incorporate them into your daily study routine. Create personalized mnemonic devices for challenging words or concepts, and review them regularly to reinforce your memory. Experiment with different techniques to find what works best for you and adapt them to suit your learning style.\n",
      "\n",
      "## Engaging with the Pali community\n",
      "\n",
      "Joining Pali study groups or forums can provide valuable support and motivation for your language learning journey. Connecting with fellow learners and experienced practitioners can offer insights, resources, and encouragement to help you stay motivated and focused on your goals. Engage in discussions, ask questions, and share your progress with the community to enhance your learning experience.\n",
      "\n",
      "To get involved in the Pali community, explore online forums, social media groups, or local study groups that cater to Pali language learners. Attend virtual or in-person events, workshops, or study sessions to connect with like-minded individuals and immerse yourself in the language and culture. By actively participating in the Pali community, you can enhance your learning experience and foster a sense of camaraderie with fellow language enthusiasts.\n",
      "\n",
      "## Call to Action\n",
      "\n",
      "Start implementing the strategies discussed in this article to enhance your learning journey and deepen your understanding of Pali. Practice regularly, engage with Pali texts and resources, utilize mnemonic devices and memory techniques, and connect with the Pali community for support and motivation. Share your progress and insights with others in the Pali learning community to inspire and encourage fellow learners on their path to mastering Pali.\n",
      "\n",
      "In conclusion, mastering Pali requires dedication, practice, and strategic learning approaches. By following the strategies outlined in this article and actively engaging with the Pali language and community, you can cultivate a deeper appreciation for Buddhist texts and expand your linguistic skills. Begin your journey to mastering Pali today and embark on a transformative learning experience that will enrich your spiritual and intellectual pursuits.\n",
      "\n",
      "Remember, the key to success lies in consistent practice, perseverance, and a genuine passion for the language. Embrace the challenges, celebrate the victories, and enjoy the journey of learning to read Pali. Good luck on your path to mastering this ancient and sacred language!\n",
      "\n",
      "\u001b[00m\n",
      "\u001b[1m\u001b[95m [DEBUG]: == Working Agent: Editor\u001b[00m\n",
      "\u001b[1m\u001b[95m [INFO]: == Starting Task: Proofread the given blog post for grammatical errors and alignment with the brand's voice.\u001b[00m\n",
      "\n",
      "\n",
      "\u001b[1m> Entering new CrewAgentExecutor chain...\u001b[0m\n"
     ]
    },
    {
     "name": "stdout",
     "output_type": "stream",
     "text": [
      "\u001b[32;1m\u001b[1;3mI now can give a great answer\n",
      "\n",
      "Final Answer:\n",
      "# Mastering Pali: A Strategic Guide to Learning to Read Pali\n",
      "\n",
      "## Introduction\n",
      "\n",
      "Embarking on the journey of learning to read Pali, the language of Buddhist scriptures, is both rewarding and challenging. Mastering Pali not only unlocks a world of ancient wisdom and spiritual teachings but also presents beginners with the unique challenge of navigating its grammar and syntax. In this article, we will delve into strategic approaches that can aid in the comprehension of Pali texts and deepen one's understanding of Buddhist philosophy.\n",
      "\n",
      "## Understanding the basics of Pali grammar and syntax\n",
      "\n",
      "Pali, an ancient language closely linked to Sanskrit, shares grammatical features with other Indo-European languages. Central to Pali grammar is its system of declensions, which dictate the inflection of nouns and pronouns for case, number, and gender. Acquiring a solid grasp of these fundamental principles is essential for unraveling the structure of Pali sentences and texts.\n",
      "\n",
      "To effectively approach the study of Pali grammar, it is advisable to establish a strong foundation by delving into the language's essentials. Resources such as online courses, tutorials, and grammar guides can provide a structured introduction to Pali syntax. Regular practice and application of these concepts through reading Pali texts will aid in solidifying understanding and improving reading proficiency.\n",
      "\n",
      "## Building vocabulary through reading and practice\n",
      "\n",
      "Expanding one's Pali vocabulary is crucial for comprehending Buddhist texts. Engaging with Pali texts regularly and immersing oneself in the language within context can facilitate the acquisition of new words and phrases naturally. Pali dictionaries and reading materials are valuable resources that can support the process of broadening one's vocabulary and acquainting oneself with common Pali terms.\n",
      "\n",
      "To enhance vocabulary retention, maintaining a vocabulary journal or utilizing flashcards for regular review can be beneficial. Practicing reading Pali texts aloud can aid in improving pronunciation and fluency, while challenging oneself with increasingly complex texts can further expand vocabulary.\n",
      "\n",
      "## Utilizing mnemonic devices and memory techniques\n",
      "\n",
      "Mnemonic devices serve as effective tools for memorizing Pali words and phrases. Techniques such as creating associations, visualizations, or acronyms can enhance vocabulary recall. Memory techniques like spaced repetition or chunking can contribute to retaining new information and enhancing overall language learning.\n",
      "\n",
      "Incorporating mnemonic devices and memory techniques into daily study routines is key. Developing personalized mnemonic devices for challenging words or concepts and revisiting them regularly can reinforce memory retention. Experimenting with various techniques to identify what works best and adapting them to individual learning styles is crucial for optimizing the learning experience.\n",
      "\n",
      "## Engaging with the Pali community\n",
      "\n",
      "Participating in Pali study groups or forums can offer valuable support and encouragement throughout one's language learning journey. Connecting with fellow learners and experienced practitioners provides insights, resources, and motivation to stay focused on learning goals. Engaging in discussions, seeking guidance, and sharing progress with the community can enrich the learning experience.\n",
      "\n",
      "Exploring online forums, social media groups, or local study groups tailored to Pali language learners is a great way to connect with the Pali community. Attending virtual or in-person events, workshops, or study sessions enables individuals to interact with like-minded peers and immerse themselves in the language and culture. Active involvement in the Pali community enhances the learning experience and fosters a sense of camaraderie among language enthusiasts.\n",
      "\n",
      "## Call to Action\n",
      "\n",
      "Implementing the strategies outlined in this article can elevate one's learning journey and deepen understanding of Pali. Regular practice, engagement with Pali texts and resources, utilization of mnemonic devices and memory techniques, and connection with the Pali community are essential steps towards mastering the language. Sharing progress and insights with fellow learners can inspire and motivate others on their path to mastering Pali.\n",
      "\n",
      "In conclusion, mastering Pali demands dedication, practice, and strategic learning methods. By following the strategies discussed and actively engaging with the language and community, individuals can develop a profound appreciation for Buddhist texts and enhance their linguistic abilities. Embark on the journey to mastering Pali today and embrace the transformative learning experience that awaits. Success in mastering this ancient and sacred language hinges on consistent practice, perseverance, and a genuine passion for the language. Embrace the challenges, savor the victories, and revel in the journey of learning to read Pali. Best wishes on the path to mastering this profound language!\u001b[0m\n",
      "\n",
      "\u001b[1m> Finished chain.\u001b[0m\n",
      "\u001b[1m\u001b[92m [DEBUG]: == [Editor] Task output: # Mastering Pali: A Strategic Guide to Learning to Read Pali\n",
      "\n",
      "## Introduction\n",
      "\n",
      "Embarking on the journey of learning to read Pali, the language of Buddhist scriptures, is both rewarding and challenging. Mastering Pali not only unlocks a world of ancient wisdom and spiritual teachings but also presents beginners with the unique challenge of navigating its grammar and syntax. In this article, we will delve into strategic approaches that can aid in the comprehension of Pali texts and deepen one's understanding of Buddhist philosophy.\n",
      "\n",
      "## Understanding the basics of Pali grammar and syntax\n",
      "\n",
      "Pali, an ancient language closely linked to Sanskrit, shares grammatical features with other Indo-European languages. Central to Pali grammar is its system of declensions, which dictate the inflection of nouns and pronouns for case, number, and gender. Acquiring a solid grasp of these fundamental principles is essential for unraveling the structure of Pali sentences and texts.\n",
      "\n",
      "To effectively approach the study of Pali grammar, it is advisable to establish a strong foundation by delving into the language's essentials. Resources such as online courses, tutorials, and grammar guides can provide a structured introduction to Pali syntax. Regular practice and application of these concepts through reading Pali texts will aid in solidifying understanding and improving reading proficiency.\n",
      "\n",
      "## Building vocabulary through reading and practice\n",
      "\n",
      "Expanding one's Pali vocabulary is crucial for comprehending Buddhist texts. Engaging with Pali texts regularly and immersing oneself in the language within context can facilitate the acquisition of new words and phrases naturally. Pali dictionaries and reading materials are valuable resources that can support the process of broadening one's vocabulary and acquainting oneself with common Pali terms.\n",
      "\n",
      "To enhance vocabulary retention, maintaining a vocabulary journal or utilizing flashcards for regular review can be beneficial. Practicing reading Pali texts aloud can aid in improving pronunciation and fluency, while challenging oneself with increasingly complex texts can further expand vocabulary.\n",
      "\n",
      "## Utilizing mnemonic devices and memory techniques\n",
      "\n",
      "Mnemonic devices serve as effective tools for memorizing Pali words and phrases. Techniques such as creating associations, visualizations, or acronyms can enhance vocabulary recall. Memory techniques like spaced repetition or chunking can contribute to retaining new information and enhancing overall language learning.\n",
      "\n",
      "Incorporating mnemonic devices and memory techniques into daily study routines is key. Developing personalized mnemonic devices for challenging words or concepts and revisiting them regularly can reinforce memory retention. Experimenting with various techniques to identify what works best and adapting them to individual learning styles is crucial for optimizing the learning experience.\n",
      "\n",
      "## Engaging with the Pali community\n",
      "\n",
      "Participating in Pali study groups or forums can offer valuable support and encouragement throughout one's language learning journey. Connecting with fellow learners and experienced practitioners provides insights, resources, and motivation to stay focused on learning goals. Engaging in discussions, seeking guidance, and sharing progress with the community can enrich the learning experience.\n",
      "\n",
      "Exploring online forums, social media groups, or local study groups tailored to Pali language learners is a great way to connect with the Pali community. Attending virtual or in-person events, workshops, or study sessions enables individuals to interact with like-minded peers and immerse themselves in the language and culture. Active involvement in the Pali community enhances the learning experience and fosters a sense of camaraderie among language enthusiasts.\n",
      "\n",
      "## Call to Action\n",
      "\n",
      "Implementing the strategies outlined in this article can elevate one's learning journey and deepen understanding of Pali. Regular practice, engagement with Pali texts and resources, utilization of mnemonic devices and memory techniques, and connection with the Pali community are essential steps towards mastering the language. Sharing progress and insights with fellow learners can inspire and motivate others on their path to mastering Pali.\n",
      "\n",
      "In conclusion, mastering Pali demands dedication, practice, and strategic learning methods. By following the strategies discussed and actively engaging with the language and community, individuals can develop a profound appreciation for Buddhist texts and enhance their linguistic abilities. Embark on the journey to mastering Pali today and embrace the transformative learning experience that awaits. Success in mastering this ancient and sacred language hinges on consistent practice, perseverance, and a genuine passion for the language. Embrace the challenges, savor the victories, and revel in the journey of learning to read Pali. Best wishes on the path to mastering this profound language!\n",
      "\n",
      "\u001b[00m\n"
     ]
    }
   ],
   "source": [
    "topic = \"Strategy for learning to read Pali\"\n",
    "result = crew.kickoff(inputs={\"topic\": topic})"
   ]
  },
  {
   "cell_type": "code",
   "execution_count": null,
   "metadata": {
    "height": 30
   },
   "outputs": [],
   "source": [
    "Markdown(result)"
   ]
  },
  {
   "cell_type": "markdown",
   "metadata": {},
   "source": [
    "<a name='1'></a>\n",
    " ## Other Popular Models as LLM for your Agents"
   ]
  },
  {
   "cell_type": "markdown",
   "metadata": {},
   "source": [
    "#### Hugging Face (HuggingFaceHub endpoint)\n",
    "\n",
    "```Python\n",
    "from langchain_community.llms import HuggingFaceHub\n",
    "\n",
    "llm = HuggingFaceHub(\n",
    "    repo_id=\"HuggingFaceH4/zephyr-7b-beta\",\n",
    "    huggingfacehub_api_token=\"<HF_TOKEN_HERE>\",\n",
    "    task=\"text-generation\",\n",
    ")\n",
    "\n",
    "### you will pass \"llm\" to your agent function\n",
    "```"
   ]
  },
  {
   "cell_type": "markdown",
   "metadata": {},
   "source": [
    "#### Mistral API\n",
    "\n",
    "```Python\n",
    "OPENAI_API_KEY=your-mistral-api-key\n",
    "OPENAI_API_BASE=https://api.mistral.ai/v1\n",
    "OPENAI_MODEL_NAME=\"mistral-small\"\n",
    "```"
   ]
  },
  {
   "cell_type": "markdown",
   "metadata": {},
   "source": [
    "#### Cohere\n",
    "\n",
    "```Python\n",
    "from langchain_community.chat_models import ChatCohere\n",
    "# Initialize language model\n",
    "os.environ[\"COHERE_API_KEY\"] = \"your-cohere-api-key\"\n",
    "llm = ChatCohere()\n",
    "\n",
    "### you will pass \"llm\" to your agent function\n",
    "```"
   ]
  },
  {
   "cell_type": "markdown",
   "metadata": {},
   "source": [
    "### For using Llama locally with Ollama and more, checkout the crewAI documentation on [Connecting to any LLM](https://docs.crewai.com/how-to/LLM-Connections/)."
   ]
  },
  {
   "cell_type": "code",
   "execution_count": null,
   "metadata": {
    "height": 30
   },
   "outputs": [],
   "source": []
  },
  {
   "cell_type": "code",
   "execution_count": null,
   "metadata": {
    "height": 30
   },
   "outputs": [],
   "source": []
  },
  {
   "cell_type": "code",
   "execution_count": null,
   "metadata": {
    "height": 30
   },
   "outputs": [],
   "source": []
  }
 ],
 "metadata": {
  "colab": {
   "gpuType": "T4",
   "provenance": []
  },
  "kernelspec": {
   "display_name": "Python 3 (ipykernel)",
   "language": "python",
   "name": "python3"
  },
  "language_info": {
   "codemirror_mode": {
    "name": "ipython",
    "version": 3
   },
   "file_extension": ".py",
   "mimetype": "text/x-python",
   "name": "python",
   "nbconvert_exporter": "python",
   "pygments_lexer": "ipython3",
   "version": "3.11.9"
  }
 },
 "nbformat": 4,
 "nbformat_minor": 4
}

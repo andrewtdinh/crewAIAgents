{
 "cells": [
  {
   "cell_type": "markdown",
   "metadata": {
    "id": "wbSHhG0jG_P7"
   },
   "source": [
    "# Setup"
   ]
  },
  {
   "cell_type": "code",
   "execution_count": null,
   "metadata": {},
   "outputs": [],
   "source": [
    "import os\n",
    "from dotenv import load_dotenv\n",
    "from langchain_openai import ChatOpenAI\n",
    "from crewai import Agent, Process, Crew, Task\n",
    "from IPython.display import display, Markdown\n",
    "from crewai.knowledge.source.string_knowledge_source import StringKnowledgeSource"
   ]
  },
  {
   "cell_type": "code",
   "execution_count": null,
   "metadata": {
    "executionInfo": {
     "elapsed": 1221,
     "status": "ok",
     "timestamp": 1738406663750,
     "user": {
      "displayName": "Diogo Resende",
      "userId": "05706604408624562002"
     },
     "user_tz": -60
    },
    "id": "3BGgmZR5G4hf"
   },
   "outputs": [],
   "source": [
    "load_dotenv()\n",
    "\n",
    "openai_api_key = os.getenv('OPENAI_API_KEY')"
   ]
  },
  {
   "cell_type": "code",
   "execution_count": null,
   "metadata": {
    "executionInfo": {
     "elapsed": 648,
     "status": "ok",
     "timestamp": 1738407051849,
     "user": {
      "displayName": "Diogo Resende",
      "userId": "05706604408624562002"
     },
     "user_tz": -60
    },
    "id": "gv0AE_Y4Iixh"
   },
   "outputs": [],
   "source": [
    "# Set the API keys as environment variables\n",
    "# os.environ['OPENAI_API_KEY'] = openai_api_key"
   ]
  },
  {
   "cell_type": "code",
   "execution_count": 6,
   "metadata": {
    "executionInfo": {
     "elapsed": 283,
     "status": "ok",
     "timestamp": 1738407078785,
     "user": {
      "displayName": "Diogo Resende",
      "userId": "05706604408624562002"
     },
     "user_tz": -60
    },
    "id": "UedDi_oFIn5g"
   },
   "outputs": [],
   "source": [
    "# Define the LLM\n",
    "llm = ChatOpenAI(model_name = \"gpt-4o\", temperature = 0.5)"
   ]
  },
  {
   "cell_type": "markdown",
   "metadata": {
    "id": "904j-qcXJMW8"
   },
   "source": [
    "# Get the data\n",
    "\n",
    "*   Interviewer\n",
    "*   company\n",
    "*   job position\n",
    "*   job description\n",
    "\n"
   ]
  },
  {
   "cell_type": "code",
   "execution_count": 7,
   "metadata": {
    "colab": {
     "base_uri": "https://localhost:8080/"
    },
    "executionInfo": {
     "elapsed": 91860,
     "status": "ok",
     "timestamp": 1738407536114,
     "user": {
      "displayName": "Diogo Resende",
      "userId": "05706604408624562002"
     },
     "user_tz": -60
    },
    "id": "se7wJtvmIukS",
    "outputId": "e78b119e-e384-4dd0-9ce3-00a8b9952fd9"
   },
   "outputs": [
    {
     "name": "stdout",
     "output_type": "stream",
     "text": [
      "Enter the name of the interviewer: Matthias Glöel\n",
      "Enter the name of the company: Beat81\n",
      "Enter the job position: Data Analytics Working Student\n",
      "Enter the job description: About the Role As a Working Student in our Analytics Team, you will work closely with our Tech, Product, Marketing and Operations team to support our daily operations with analytical insights and help us to grow. You will be joining a dynamic, fast-paced start-up where you’ll have ownership and impact from day one!  Your Responsibilities Collaborate with stakeholders to understand data requirements  Support teams with data and analytics requests and provide analytics solutions  Create and maintain company dashboards  Carry out stand-alone analytics projects in marketing, operations or product  Assist in developing, improving and scaling existing data pipelines  Your Profile Currently enrolled in a relevant study program with a strong quantitative background (e.g. mathematics, computer science, data science, business informatics etc.)  Good knowledge of Google Sheets  Good Knowledge of SQL  Good Knowledge of Python  Knowledge of common data visualization tools (e.g. Tableau, Lookerstudio etc.)  Knowledge of dbt, GCP, BigQuery is a plus  Fluent in English  OUR OFFER  WALK THE TALK: Unlimited BEAT81 workouts for you and one family member/friend: we guarantee that you will get fit working here :)  YOUR DEVICE: Everyone has their own preferences when it comes to technology - whether it’s Mac or Windows - you choose your laptop. Additionally, we provide Bose noise-canceling headphones  HYBRID WORK: We have a beautiful office in the heart of Berlin (Weinmeisterstraße) with free drinks, healthy snacks and fruits. We like to spend time there together, but you are also welcome to work from home  FLEXIBLE WORKING HOURS: Early bird or late riser? Shape your workday to align with your personal commitments and preferences in coordination with your team and the business needs  TEAM RITUALS: Shared experiences build a strong team culture. That’s why we have our usuals such as regular all hands meetings, Aperol Thursdays and joint workouts - there is something for everyone  TEAM EVENTS: Our summer and Christmas parties have become as legendary as our annual off-sites and the perfect occasion to spend quality time with team members\n"
     ]
    }
   ],
   "source": [
    "# Store the data\n",
    "interviewer = input(\"Enter the name of the interviewer: \")\n",
    "company = input(\"Enter the name of the company: \")\n",
    "job_position = input(\"Enter the job position: \")\n",
    "job_description = input(\"Enter the job description: \")"
   ]
  },
  {
   "cell_type": "markdown",
   "metadata": {
    "id": "PX2YS52eMD2R"
   },
   "source": [
    "# Interviewer AI Agent"
   ]
  },
  {
   "cell_type": "code",
   "execution_count": 11,
   "metadata": {
    "executionInfo": {
     "elapsed": 246,
     "status": "ok",
     "timestamp": 1738408486385,
     "user": {
      "displayName": "Diogo Resende",
      "userId": "05706604408624562002"
     },
     "user_tz": -60
    },
    "id": "yt6qNHzYMFhp"
   },
   "outputs": [],
   "source": [
    "# Create the interver AI agent\n",
    "interviewer_agent = Agent(\n",
    "    role = f\" You are {interviewer}, employed at {company}, and hiring for job position {job_position}\",\n",
    "    goal = f\" you help the user user prepare for the job interview for job {job_position} with the following description: {job_description}\",\n",
    "    backstory = \"\"\"\n",
    "    Experience\n",
    "    BEAT81\n",
    "    Analytics Engineer\n",
    "\n",
    "    BEAT81 · Full-timeBEAT81 · Full-time\n",
    "    Apr 2024 - Present · 11 mos\n",
    "    Berlin, Germany\n",
    "    diconium\n",
    "    Full-time · 4 yrs 2 mosFull-time · 4 yrs 2 mos\n",
    "\n",
    "    Senior Cloud Architect\n",
    "    Apr 2022 - Mar 2024 · 2 yrs\n",
    "    Microsoft Azure, DBT and +4 skills\n",
    "\n",
    "    Data Engineer\n",
    "    Jan 2021 - Mar 2022 · 1 yr 3 mosJan 2021 to Mar 2022 · 1 yr 3 mos\n",
    "    DBT, AWS and +4 skills\n",
    "\n",
    "    Data Scientist\n",
    "    Feb 2020 - Dec 2020 · 11 mos\n",
    "    SQL and Python\n",
    "    4flow logo\n",
    "\n",
    "    Data Scientist\n",
    "    4flow · Full-time4flow · Full-time\n",
    "    Jun 2019 - Dec 2019 · 7 mosJun 2019 to Dec 2019 · 7 mos\n",
    "    SQL and Python\n",
    "    DCMN\n",
    "    Full-time · 3 yrs 3 mos\n",
    "\n",
    "    Data Scientist\n",
    "    Apr 2017 - Apr 2019 · 2 yrs 1 moApr 2017 to Apr 2019 · 2 yrs 1 mo\n",
    "    SQL and Python\n",
    "    Data Analyst / Business Intelligence Manager\n",
    "\n",
    "    Feb 2016 - Mar 2017 · 1 yr 2 mosFeb 2016 to Mar 2017 · 1 yr 2 mos\n",
    "    SQL and Python\n",
    "    iversity logo\n",
    "\n",
    "    Data Analyst\n",
    "    iversity · Full-timeiversity · Full-time\n",
    "    Dec 2014 - Dec 2015 · 1 yr 1 moDec 2014 to Dec 2015 · 1 yr 1 mo\n",
    "    SQL and R\n",
    "\n",
    "    Education\n",
    "    Technische Universität Berlin\n",
    "    Master of Science - MS, Computational Neuroscience\n",
    "    Sep 2009 - Aug 2013\n",
    "\n",
    "    Universität Osnabrück\n",
    "    Bachelor of Science - BS, Cognitive ScienceBachelor of Science - BS, Cognitive Science\n",
    "    \"\"\",\n",
    "    llm = llm\n",
    ")"
   ]
  },
  {
   "cell_type": "code",
   "execution_count": 35,
   "metadata": {
    "executionInfo": {
     "elapsed": 2,
     "status": "ok",
     "timestamp": 1738414487366,
     "user": {
      "displayName": "Diogo Resende",
      "userId": "05706604408624562002"
     },
     "user_tz": -60
    },
    "id": "ILETaPP4NcfP"
   },
   "outputs": [],
   "source": [
    "# Define the interview prep task\n",
    "interview_prep_task = Task(\n",
    "    description = f\"\"\"\n",
    "    Interview the user for the job {job_position} with the following description: {job_description}\n",
    "    \"\"\",\n",
    "    expected_output = f\"\"\"\n",
    "    ask only one question to the user that is relevant for the job {job_position} that has not been asked before\n",
    "    \"\"\",\n",
    "    agent = interviewer_agent,\n",
    "    human_input = True\n",
    ")"
   ]
  },
  {
   "cell_type": "markdown",
   "metadata": {
    "id": "QEm6sySSheYU"
   },
   "source": [
    "# AI Coach"
   ]
  },
  {
   "cell_type": "code",
   "execution_count": 18,
   "metadata": {
    "executionInfo": {
     "elapsed": 218,
     "status": "ok",
     "timestamp": 1738413701716,
     "user": {
      "displayName": "Diogo Resende",
      "userId": "05706604408624562002"
     },
     "user_tz": -60
    },
    "id": "l1C6yVFkhgVg"
   },
   "outputs": [],
   "source": [
    "# Build the AI interview coach agent\n",
    "coach_agent = Agent(\n",
    "    role = \"Interview Coach\",\n",
    "    goal = f\"I help the user prepare for the job interview for job {job_position} by grading the relevance of the answer\",\n",
    "    backstory = \"You are an expert in job interviews\",\n",
    "    llm = llm)"
   ]
  },
  {
   "cell_type": "code",
   "execution_count": 19,
   "metadata": {
    "executionInfo": {
     "elapsed": 232,
     "status": "ok",
     "timestamp": 1738413861496,
     "user": {
      "displayName": "Diogo Resende",
      "userId": "05706604408624562002"
     },
     "user_tz": -60
    },
    "id": "OqcLUxQwhgKA"
   },
   "outputs": [],
   "source": [
    "# Define the Coaching Task\n",
    "coaching_task = Task(\n",
    "    description = \"\"\" Give feedback to the user on its answer \"\"\",\n",
    "    expected_output = f\"\"\" Give feedback to the user on its answer with a bullet points on what was good, bad, and how to take it to the next level\"\"\",\n",
    "    agent = coach_agent,\n",
    "    context = [interview_prep_task]\n",
    ")"
   ]
  },
  {
   "cell_type": "markdown",
   "metadata": {
    "id": "3OTsSYKiPNeb"
   },
   "source": [
    "# AI Crew"
   ]
  },
  {
   "cell_type": "code",
   "execution_count": 32,
   "metadata": {
    "executionInfo": {
     "elapsed": 227,
     "status": "ok",
     "timestamp": 1738414315277,
     "user": {
      "displayName": "Diogo Resende",
      "userId": "05706604408624562002"
     },
     "user_tz": -60
    },
    "id": "X24KiRY9j4Zx"
   },
   "outputs": [],
   "source": [
    "# Create an empty list for questions\n",
    "interview_questions = []\n",
    "# # Store each question\n",
    "# interview_questions.append(result.tasks_output[0].raw)\n",
    "# interview_content = ' '.join(interview_questions)\n",
    "# string_source = StringKnowledgeSource(content = interview_content)"
   ]
  },
  {
   "cell_type": "code",
   "execution_count": 36,
   "metadata": {
    "colab": {
     "base_uri": "https://localhost:8080/"
    },
    "executionInfo": {
     "elapsed": 54320,
     "status": "ok",
     "timestamp": 1738414548716,
     "user": {
      "displayName": "Diogo Resende",
      "userId": "05706604408624562002"
     },
     "user_tz": -60
    },
    "id": "TyK25rEXNTTy",
    "outputId": "baf2ebc5-3c65-4164-f104-4e45d4b94dcc"
   },
   "outputs": [
    {
     "name": "stderr",
     "output_type": "stream",
     "text": [
      "WARNING:opentelemetry.trace:Overriding of current TracerProvider is not allowed\n"
     ]
    },
    {
     "name": "stdout",
     "output_type": "stream",
     "text": [
      "\u001b[1m\u001b[95m# Agent:\u001b[00m \u001b[1m\u001b[92m You are Matthias Glöel, employed at Beat81, and hiring for job position Data Analytics Working Student\u001b[00m\n",
      "\u001b[95m## Task:\u001b[00m \u001b[92m\n",
      "    Interview the user for the job Data Analytics Working Student with the following description: About the Role As a Working Student in our Analytics Team, you will work closely with our Tech, Product, Marketing and Operations team to support our daily operations with analytical insights and help us to grow. You will be joining a dynamic, fast-paced start-up where you’ll have ownership and impact from day one!  Your Responsibilities Collaborate with stakeholders to understand data requirements  Support teams with data and analytics requests and provide analytics solutions  Create and maintain company dashboards  Carry out stand-alone analytics projects in marketing, operations or product  Assist in developing, improving and scaling existing data pipelines  Your Profile Currently enrolled in a relevant study program with a strong quantitative background (e.g. mathematics, computer science, data science, business informatics etc.)  Good knowledge of Google Sheets  Good Knowledge of SQL  Good Knowledge of Python  Knowledge of common data visualization tools (e.g. Tableau, Lookerstudio etc.)  Knowledge of dbt, GCP, BigQuery is a plus  Fluent in English  OUR OFFER  WALK THE TALK: Unlimited BEAT81 workouts for you and one family member/friend: we guarantee that you will get fit working here :)  YOUR DEVICE: Everyone has their own preferences when it comes to technology - whether it’s Mac or Windows - you choose your laptop. Additionally, we provide Bose noise-canceling headphones  HYBRID WORK: We have a beautiful office in the heart of Berlin (Weinmeisterstraße) with free drinks, healthy snacks and fruits. We like to spend time there together, but you are also welcome to work from home  FLEXIBLE WORKING HOURS: Early bird or late riser? Shape your workday to align with your personal commitments and preferences in coordination with your team and the business needs  TEAM RITUALS: Shared experiences build a strong team culture. That’s why we have our usuals such as regular all hands meetings, Aperol Thursdays and joint workouts - there is something for everyone  TEAM EVENTS: Our summer and Christmas parties have become as legendary as our annual off-sites and the perfect occasion to spend quality time with team members\n",
      "    \u001b[00m\n",
      "\n",
      "\n",
      "\u001b[1m\u001b[95m# Agent:\u001b[00m \u001b[1m\u001b[92m You are Matthias Glöel, employed at Beat81, and hiring for job position Data Analytics Working Student\u001b[00m\n",
      "\u001b[95m## Final Answer:\u001b[00m \u001b[92m\n",
      "What experience do you have working with SQL and Python, and how have you used these skills to provide analytical insights or solutions in past projects or coursework?\u001b[00m\n",
      "\n",
      "\n",
      "\u001b[1m\u001b[95m ## Final Result:\u001b[00m \u001b[92mWhat experience do you have working with SQL and Python, and how have you used these skills to provide analytical insights or solutions in past projects or coursework?\u001b[00m\n",
      "\u001b[1m\u001b[93m \n",
      "\n",
      "=====\n",
      "## HUMAN FEEDBACK: Provide feedback on the Final Result and Agent's actions.\n",
      "Respond with 'looks good' to accept or provide specific improvement requests.\n",
      "You can provide multiple rounds of feedback until satisfied.\n",
      "=====\n",
      "\u001b[00m\n",
      "I have strong experience using SQL and Python for data analysis, automation, and predictive modeling. In a past project, I analyzed customer transactions for a fintech company. Using SQL, I extracted and cleaned millions of records, then applied Python (pandas, NumPy, and scikit-learn) to detect spending patterns and predict potential defaults. I collaborated with stakeholders to define key risk indicators and developed a dashboard for real-time monitoring. My analysis helped optimize credit risk strategies, reducing default rates by 12%. By combining SQL for efficient data manipulation and Python for advanced analytics, I’ve consistently delivered data-driven solutions with measurable impact.\n",
      "\u001b[1m\u001b[95m# Agent:\u001b[00m \u001b[1m\u001b[92mInterview Coach\u001b[00m\n",
      "\u001b[95m## Task:\u001b[00m \u001b[92m Give feedback to the user on its answer \u001b[00m\n",
      "\n",
      "\n",
      "\u001b[1m\u001b[95m# Agent:\u001b[00m \u001b[1m\u001b[92mInterview Coach\u001b[00m\n",
      "\u001b[95m## Final Answer:\u001b[00m \u001b[92m\n",
      "- **Good Points:**\n",
      "  - Clearly mentioned the experience with SQL and Python, which are crucial for the Data Analytics Working Student role.\n",
      "  - Provided examples of using these skills in past projects or coursework, which demonstrates practical application.\n",
      "  - Highlighted the ability to provide analytical insights or solutions, indicating a results-oriented approach.\n",
      "\n",
      "- **Areas for Improvement:**\n",
      "  - The answer could include more specific details about the projects or coursework, such as the type of data analyzed or the specific problems solved.\n",
      "  - Mentioning any quantifiable results, like improving efficiency or accuracy, would strengthen the impact of the answer.\n",
      "  - Could benefit from more technical details, such as specific SQL queries or Python libraries used.\n",
      "\n",
      "- **Taking it to the Next Level:**\n",
      "  - Include a specific example of a project where SQL and Python were used together to solve a problem or generate insights, detailing the process and outcome.\n",
      "  - Discuss any challenges faced during these projects and how they were overcome using SQL and Python.\n",
      "  - Highlight any additional tools or technologies that were used in conjunction with SQL and Python to enhance the analysis.\n",
      "  - Ensure the explanation is clear and concise, avoiding technical jargon unless it is explained or relevant to the role.\u001b[00m\n",
      "\n",
      "\n"
     ]
    }
   ],
   "source": [
    "crew = Crew(\n",
    "    agents = [interviewer_agent, coach_agent],\n",
    "    tasks = [interview_prep_task, coaching_task],\n",
    "    verbose = True,\n",
    "    process = Process.sequential,\n",
    "    memory = True,\n",
    "    knowledge_sources = [string_source]\n",
    ")\n",
    "result = crew.kickoff()\n",
    "\n",
    "# Store each question\n",
    "interview_questions.append(result.tasks_output[0].raw)\n",
    "interview_content = ' '.join(interview_questions)\n",
    "string_source = StringKnowledgeSource(content = interview_content)"
   ]
  },
  {
   "cell_type": "code",
   "execution_count": 28,
   "metadata": {
    "colab": {
     "base_uri": "https://localhost:8080/",
     "height": 64
    },
    "executionInfo": {
     "elapsed": 253,
     "status": "ok",
     "timestamp": 1738414157194,
     "user": {
      "displayName": "Diogo Resende",
      "userId": "05706604408624562002"
     },
     "user_tz": -60
    },
    "id": "g_8RzyeMPgSR",
    "outputId": "4f5ac01f-676d-479f-c542-24f425e92590"
   },
   "outputs": [
    {
     "data": {
      "text/markdown": [
       "What experience do you have working with SQL and Python, and how have you used these skills to provide analytical insights or solutions in past projects or coursework?"
      ],
      "text/plain": [
       "<IPython.core.display.Markdown object>"
      ]
     },
     "metadata": {},
     "output_type": "display_data"
    }
   ],
   "source": [
    "# Check output\n",
    "display(Markdown(result.tasks_output[0].raw))"
   ]
  }
 ],
 "metadata": {
  "colab": {
   "authorship_tag": "ABX9TyOaeeC2JCle2AXPrqzfz5eR",
   "provenance": []
  },
  "kernelspec": {
   "display_name": "Python 3",
   "name": "python3"
  },
  "language_info": {
   "name": "python"
  }
 },
 "nbformat": 4,
 "nbformat_minor": 0
}
